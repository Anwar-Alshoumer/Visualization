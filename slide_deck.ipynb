{
 "cells": [
  {
   "cell_type": "markdown",
   "metadata": {
    "slideshow": {
     "slide_type": "slide"
    }
   },
   "source": [
    "# (Data Findings Presentation: Ford GoBike System Users)\n",
    "## by (Anwar Alshoumer)"
   ]
  },
  {
   "cell_type": "markdown",
   "metadata": {
    "slideshow": {
     "slide_type": "slide"
    }
   },
   "source": [
    "## Investigation Overview\n",
    "\n",
    "> The main goal of this presentation is to identify the trends of biking in Ford GoBike System such as what the common patterns for users, their favorite times for biking and duration of the rides.\n",
    "\n",
    "## Dataset Overview\n",
    "\n",
    "> This data set includes information about individual rides made in a bike-sharing system from Ford GoBike system. It contains features related to three main aspects: rides, customers and stations. The data was collected in Feb 2019."
   ]
  },
  {
   "cell_type": "code",
   "execution_count": 2,
   "metadata": {
    "slideshow": {
     "slide_type": "skip"
    }
   },
   "outputs": [],
   "source": [
    "# import all packages and set plots to be embedded inline\n",
    "import numpy as np\n",
    "import pandas as pd\n",
    "import matplotlib.pyplot as plt\n",
    "import seaborn as sb\n",
    "\n",
    "%matplotlib inline\n",
    "\n",
    "# suppress warnings from final output\n",
    "import warnings\n",
    "warnings.simplefilter(\"ignore\")"
   ]
  },
  {
   "cell_type": "code",
   "execution_count": 3,
   "metadata": {
    "slideshow": {
     "slide_type": "skip"
    }
   },
   "outputs": [
    {
     "data": {
      "text/html": [
       "<div>\n",
       "<style scoped>\n",
       "    .dataframe tbody tr th:only-of-type {\n",
       "        vertical-align: middle;\n",
       "    }\n",
       "\n",
       "    .dataframe tbody tr th {\n",
       "        vertical-align: top;\n",
       "    }\n",
       "\n",
       "    .dataframe thead th {\n",
       "        text-align: right;\n",
       "    }\n",
       "</style>\n",
       "<table border=\"1\" class=\"dataframe\">\n",
       "  <thead>\n",
       "    <tr style=\"text-align: right;\">\n",
       "      <th></th>\n",
       "      <th>duration_sec</th>\n",
       "      <th>start_time</th>\n",
       "      <th>end_time</th>\n",
       "      <th>start_station_name</th>\n",
       "      <th>end_station_name</th>\n",
       "      <th>bike_id</th>\n",
       "      <th>user_type</th>\n",
       "      <th>member_birth_year</th>\n",
       "      <th>member_gender</th>\n",
       "      <th>bike_share_for_all_trip</th>\n",
       "      <th>duration_min</th>\n",
       "      <th>member_age</th>\n",
       "      <th>start_hour</th>\n",
       "      <th>start_day</th>\n",
       "    </tr>\n",
       "  </thead>\n",
       "  <tbody>\n",
       "    <tr>\n",
       "      <th>0</th>\n",
       "      <td>1585</td>\n",
       "      <td>2019-02-28 23:54:18.549</td>\n",
       "      <td>2019-03-01 00:20:44.074</td>\n",
       "      <td>Frank H Ogawa Plaza</td>\n",
       "      <td>10th Ave at E 15th St</td>\n",
       "      <td>4898</td>\n",
       "      <td>Subscriber</td>\n",
       "      <td>1974</td>\n",
       "      <td>Male</td>\n",
       "      <td>Yes</td>\n",
       "      <td>26.416667</td>\n",
       "      <td>45</td>\n",
       "      <td>23</td>\n",
       "      <td>Thursday</td>\n",
       "    </tr>\n",
       "    <tr>\n",
       "      <th>1</th>\n",
       "      <td>1793</td>\n",
       "      <td>2019-02-28 23:49:58.632</td>\n",
       "      <td>2019-03-01 00:19:51.760</td>\n",
       "      <td>4th St at Mission Bay Blvd S</td>\n",
       "      <td>Broadway at Kearny</td>\n",
       "      <td>5200</td>\n",
       "      <td>Subscriber</td>\n",
       "      <td>1959</td>\n",
       "      <td>Male</td>\n",
       "      <td>No</td>\n",
       "      <td>29.883333</td>\n",
       "      <td>60</td>\n",
       "      <td>23</td>\n",
       "      <td>Thursday</td>\n",
       "    </tr>\n",
       "    <tr>\n",
       "      <th>2</th>\n",
       "      <td>1147</td>\n",
       "      <td>2019-02-28 23:55:35.104</td>\n",
       "      <td>2019-03-01 00:14:42.588</td>\n",
       "      <td>Palm St at Willow St</td>\n",
       "      <td>San Jose Diridon Station</td>\n",
       "      <td>3803</td>\n",
       "      <td>Subscriber</td>\n",
       "      <td>1983</td>\n",
       "      <td>Female</td>\n",
       "      <td>No</td>\n",
       "      <td>19.116667</td>\n",
       "      <td>36</td>\n",
       "      <td>23</td>\n",
       "      <td>Thursday</td>\n",
       "    </tr>\n",
       "    <tr>\n",
       "      <th>3</th>\n",
       "      <td>1615</td>\n",
       "      <td>2019-02-28 23:41:06.766</td>\n",
       "      <td>2019-03-01 00:08:02.756</td>\n",
       "      <td>Washington St at Kearny St</td>\n",
       "      <td>Valencia St at 21st St</td>\n",
       "      <td>6329</td>\n",
       "      <td>Subscriber</td>\n",
       "      <td>1989</td>\n",
       "      <td>Male</td>\n",
       "      <td>No</td>\n",
       "      <td>26.916667</td>\n",
       "      <td>30</td>\n",
       "      <td>23</td>\n",
       "      <td>Thursday</td>\n",
       "    </tr>\n",
       "    <tr>\n",
       "      <th>4</th>\n",
       "      <td>1570</td>\n",
       "      <td>2019-02-28 23:41:48.790</td>\n",
       "      <td>2019-03-01 00:07:59.715</td>\n",
       "      <td>Washington St at Kearny St</td>\n",
       "      <td>Valencia St at 21st St</td>\n",
       "      <td>6548</td>\n",
       "      <td>Subscriber</td>\n",
       "      <td>1988</td>\n",
       "      <td>Other</td>\n",
       "      <td>No</td>\n",
       "      <td>26.166667</td>\n",
       "      <td>31</td>\n",
       "      <td>23</td>\n",
       "      <td>Thursday</td>\n",
       "    </tr>\n",
       "  </tbody>\n",
       "</table>\n",
       "</div>"
      ],
      "text/plain": [
       "   duration_sec               start_time                 end_time  \\\n",
       "0          1585  2019-02-28 23:54:18.549  2019-03-01 00:20:44.074   \n",
       "1          1793  2019-02-28 23:49:58.632  2019-03-01 00:19:51.760   \n",
       "2          1147  2019-02-28 23:55:35.104  2019-03-01 00:14:42.588   \n",
       "3          1615  2019-02-28 23:41:06.766  2019-03-01 00:08:02.756   \n",
       "4          1570  2019-02-28 23:41:48.790  2019-03-01 00:07:59.715   \n",
       "\n",
       "             start_station_name          end_station_name  bike_id  \\\n",
       "0           Frank H Ogawa Plaza     10th Ave at E 15th St     4898   \n",
       "1  4th St at Mission Bay Blvd S        Broadway at Kearny     5200   \n",
       "2          Palm St at Willow St  San Jose Diridon Station     3803   \n",
       "3    Washington St at Kearny St    Valencia St at 21st St     6329   \n",
       "4    Washington St at Kearny St    Valencia St at 21st St     6548   \n",
       "\n",
       "    user_type  member_birth_year member_gender bike_share_for_all_trip  \\\n",
       "0  Subscriber               1974          Male                     Yes   \n",
       "1  Subscriber               1959          Male                      No   \n",
       "2  Subscriber               1983        Female                      No   \n",
       "3  Subscriber               1989          Male                      No   \n",
       "4  Subscriber               1988         Other                      No   \n",
       "\n",
       "   duration_min  member_age  start_hour start_day  \n",
       "0     26.416667          45          23  Thursday  \n",
       "1     29.883333          60          23  Thursday  \n",
       "2     19.116667          36          23  Thursday  \n",
       "3     26.916667          30          23  Thursday  \n",
       "4     26.166667          31          23  Thursday  "
      ]
     },
     "execution_count": 3,
     "metadata": {},
     "output_type": "execute_result"
    }
   ],
   "source": [
    "# load in the dataset into a pandas dataframe\n",
    "df = pd.read_csv('Ford_GoBike.csv')\n",
    "#view first 5 records of the data\n",
    "df.head()"
   ]
  },
  {
   "cell_type": "code",
   "execution_count": 4,
   "metadata": {
    "slideshow": {
     "slide_type": "skip"
    }
   },
   "outputs": [
    {
     "name": "stdout",
     "output_type": "stream",
     "text": [
      "<class 'pandas.core.frame.DataFrame'>\n",
      "RangeIndex: 173646 entries, 0 to 173645\n",
      "Data columns (total 14 columns):\n",
      " #   Column                   Non-Null Count   Dtype  \n",
      "---  ------                   --------------   -----  \n",
      " 0   duration_sec             173646 non-null  int64  \n",
      " 1   start_time               173646 non-null  object \n",
      " 2   end_time                 173646 non-null  object \n",
      " 3   start_station_name       173646 non-null  object \n",
      " 4   end_station_name         173646 non-null  object \n",
      " 5   bike_id                  173646 non-null  int64  \n",
      " 6   user_type                173646 non-null  object \n",
      " 7   member_birth_year        173646 non-null  int64  \n",
      " 8   member_gender            173646 non-null  object \n",
      " 9   bike_share_for_all_trip  173646 non-null  object \n",
      " 10  duration_min             173646 non-null  float64\n",
      " 11  member_age               173646 non-null  int64  \n",
      " 12  start_hour               173646 non-null  int64  \n",
      " 13  start_day                173646 non-null  object \n",
      "dtypes: float64(1), int64(5), object(8)\n",
      "memory usage: 13.2+ MB\n"
     ]
    }
   ],
   "source": [
    "df.info()"
   ]
  },
  {
   "cell_type": "code",
   "execution_count": 5,
   "metadata": {
    "slideshow": {
     "slide_type": "skip"
    }
   },
   "outputs": [
    {
     "name": "stdout",
     "output_type": "stream",
     "text": [
      "<class 'pandas.core.frame.DataFrame'>\n",
      "RangeIndex: 173646 entries, 0 to 173645\n",
      "Data columns (total 14 columns):\n",
      " #   Column                   Non-Null Count   Dtype   \n",
      "---  ------                   --------------   -----   \n",
      " 0   duration_sec             173646 non-null  int64   \n",
      " 1   start_time               173646 non-null  object  \n",
      " 2   end_time                 173646 non-null  object  \n",
      " 3   start_station_name       173646 non-null  object  \n",
      " 4   end_station_name         173646 non-null  object  \n",
      " 5   bike_id                  173646 non-null  int64   \n",
      " 6   user_type                173646 non-null  category\n",
      " 7   member_birth_year        173646 non-null  int64   \n",
      " 8   member_gender            173646 non-null  category\n",
      " 9   bike_share_for_all_trip  173646 non-null  object  \n",
      " 10  duration_min             173646 non-null  float64 \n",
      " 11  member_age               173646 non-null  int64   \n",
      " 12  start_hour               173646 non-null  int64   \n",
      " 13  start_day                173646 non-null  object  \n",
      "dtypes: category(2), float64(1), int64(5), object(6)\n",
      "memory usage: 12.3+ MB\n"
     ]
    }
   ],
   "source": [
    "#Change type of user_type and member_gender to category\n",
    "df['user_type'] = df['user_type'].astype('category')\n",
    "df['member_gender'] = df['member_gender'].astype('category')\n",
    "df.info()"
   ]
  },
  {
   "cell_type": "markdown",
   "metadata": {
    "slideshow": {
     "slide_type": "slide"
    }
   },
   "source": [
    "## (Duration and start hour based on user type)\n",
    "\n",
    "> In general, Customers seem to have longer duration than subscribers and they mostly active in early morning, afternoon then they back at night. while the subscribers have slight different durations between start hours. "
   ]
  },
  {
   "cell_type": "code",
   "execution_count": 21,
   "metadata": {
    "slideshow": {
     "slide_type": "subslide"
    }
   },
   "outputs": [
    {
     "data": {
      "image/png": "[encoded data removed]",
      "text/plain": [
       "<Figure size 1080x504 with 1 Axes>"
      ]
     },
     "metadata": {
      "needs_background": "light"
     },
     "output_type": "display_data"
    }
   ],
   "source": [
    "plt.figure(figsize=(15, 7))\n",
    "sb.barplot(data = df, x = 'start_hour', y = 'duration_min', hue='user_type')\n",
    "plt.xlabel('Start hour');\n",
    "plt.ylabel('Average Ride Duration in Minute')\n",
    "plt.title(\"Riding Duration of each start hour based on user type\");\n",
    "plt.legend(loc='upper right', prop={'size': 9});"
   ]
  },
  {
   "cell_type": "markdown",
   "metadata": {
    "collapsed": true,
    "slideshow": {
     "slide_type": "slide"
    }
   },
   "source": [
    "## (Relationship between duration and start day based on user type)\n",
    "\n",
    "> Weekend days Saturday and Sunday are most active days for both groups, where the average duration of customers up to 17.5 minutes while for subscriber it's above 10 minutes."
   ]
  },
  {
   "cell_type": "code",
   "execution_count": 19,
   "metadata": {
    "slideshow": {
     "slide_type": "subslide"
    }
   },
   "outputs": [
    {
     "data": {
      "image/png": "[encoded data removed]",
      "text/plain": [
       "<Figure size 1224x648 with 1 Axes>"
      ]
     },
     "metadata": {
      "needs_background": "light"
     },
     "output_type": "display_data"
    }
   ],
   "source": [
    "weekdays = ['Monday', 'Tuesday', 'Wednesday', 'Thursday', 'Friday', 'Saturday', 'Sunday']\n",
    "plt.figure(figsize=(17, 9))\n",
    "sb.barplot(data = df, x = 'start_day', y = 'duration_min', hue='user_type', order = weekdays)\n",
    "plt.xlabel('Start day');\n",
    "plt.ylabel('Average Ride Duration in Minute')\n",
    "plt.title(\"Riding Duration of each start day based on user type\");\n",
    "plt.legend( prop={'size': 9});"
   ]
  },
  {
   "cell_type": "markdown",
   "metadata": {
    "slideshow": {
     "slide_type": "slide"
    }
   },
   "source": [
    "## (Relationship between duration and start hour based on gender)\n",
    "\n",
    "> Is the time and ride duration are different between males, females and others? males have the lowest duration among others, where the females have the longest duration specially at time from 2 to 3 am."
   ]
  },
  {
   "cell_type": "code",
   "execution_count": 20,
   "metadata": {
    "slideshow": {
     "slide_type": "subslide"
    }
   },
   "outputs": [
    {
     "data": {
      "image/png": "[encoded data removed]",
      "text/plain": [
       "<Figure size 1080x504 with 1 Axes>"
      ]
     },
     "metadata": {
      "needs_background": "light"
     },
     "output_type": "display_data"
    }
   ],
   "source": [
    "plt.figure(figsize=(15, 7))\n",
    "sb.barplot(data = df, x = 'start_hour', y = 'duration_min', hue='member_gender')\n",
    "plt.xlabel('Start hour');\n",
    "plt.ylabel('Average Ride Duration in Minute')\n",
    "plt.title(\"Riding Duration of each start hour based on customer gender\");\n",
    "plt.legend(loc='upper right', prop={'size': 9});"
   ]
  },
  {
   "cell_type": "markdown",
   "metadata": {
    "slideshow": {
     "slide_type": "notes"
    }
   },
   "source": [
    "> Once you're ready to finish your presentation, check your output by using\n",
    "nbconvert to export the notebook and set up a server for the slides. From the\n",
    "terminal or command line, use the following expression:\n",
    "> > `jupyter nbconvert <file_name>.ipynb --to slides --post serve --template output_toggle`\n",
    "\n",
    "> This should open a tab in your web browser where you can scroll through your\n",
    "presentation. Sub-slides can be accessed by pressing 'down' when viewing its parent\n",
    "slide. Make sure you remove all of the quote-formatted guide notes like this one\n",
    "before you finish your presentation!"
   ]
  },
  {
   "cell_type": "code",
   "execution_count": null,
   "metadata": {},
   "outputs": [],
   "source": []
  }
 ],
 "metadata": {
  "celltoolbar": "Slideshow",
  "kernelspec": {
   "display_name": "Python 3",
   "language": "python",
   "name": "python3"
  },
  "language_info": {
   "codemirror_mode": {
    "name": "ipython",
    "version": 3
   },
   "file_extension": ".py",
   "mimetype": "text/x-python",
   "name": "python",
   "nbconvert_exporter": "python",
   "pygments_lexer": "ipython3",
   "version": "3.8.8"
  }
 },
 "nbformat": 4,
 "nbformat_minor": 2
}
